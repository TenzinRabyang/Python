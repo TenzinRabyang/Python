{
 "cells": [
  {
   "cell_type": "code",
   "execution_count": 2,
   "metadata": {},
   "outputs": [
    {
     "name": "stdout",
     "output_type": "stream",
     "text": [
      "Enter first input: 264191\n",
      "Enter second input: 264191\n",
      "\tBoth input Can't have same value. Try again\n",
      "Enter first input: 264191\n",
      "Enter second input: The Flesh Constrained\n",
      "Which Similarity Function you want to print: \n",
      "\t1. Squared euclidean similarity\n",
      "\t2. Minkowski distance similarity\n",
      "\t3. Spearman correlation similarity\n",
      "\t4. Chebyshev similarity\n",
      "\t5. Hamming distance similarity\n",
      "\t6. Cosine similarity\n",
      "\t7. Pearson Correlation\n",
      "\t8. All\n",
      "\t9. Exit\n",
      "Your option is: 8\n",
      "\tSquared euclidean similarity is:  27.85677655436824\n",
      "\tMinkowski distance similarity is:  1.0\n",
      "\tSpearman correlation similarity is:  Undefine, Lack of observation\n",
      "\tChebyshev similarity is:  10\n",
      "\tHamming distance similarity is:  0\n",
      "\tCosine similarity is:  Undefine, Lack of observation\n",
      "\tPearson_Correlation is:  Undefine, Lack of observation\n",
      "Try again: y/n \n",
      "y\n",
      "Enter first input: The Flesh Constrained\n",
      "Enter second input: 262171\n",
      "Which Similarity Function you want to print: \n",
      "\t1. Squared euclidean similarity\n",
      "\t2. Minkowski distance similarity\n",
      "\t3. Spearman correlation similarity\n",
      "\t4. Chebyshev similarity\n",
      "\t5. Hamming distance similarity\n",
      "\t6. Cosine similarity\n",
      "\t7. Pearson Correlation\n",
      "\t8. All\n",
      "\t9. Exit\n",
      "Your option is: t\n",
      "ERROR:Input isn't Integer. Try again\n",
      "Your option is: 10\n",
      "ERROR: 10  option is not available. Try again\n",
      "Your option is: 8\n",
      "\tSquared euclidean similarity is:  5.0\n",
      "\tMinkowski distance similarity is:  1.0\n",
      "\tSpearman correlation similarity is:  Undefine, Lack of observation\n",
      "\tChebyshev similarity is:  0\n",
      "\tHamming distance similarity is:  5\n",
      "\tCosine similarity is:  Undefine, Lack of observation\n",
      "\tPearson_Correlation is:  Undefine, Lack of observation\n",
      "\tSquared euclidean similarity is:  5.0\n",
      "\tMinkowski distance similarity is:  1.0\n",
      "\tSpearman correlation similarity is:  Undefine, Lack of observation\n",
      "\tChebyshev similarity is:  0\n",
      "\tHamming distance similarity is:  5\n",
      "\tCosine similarity is:  Undefine, Lack of observation\n",
      "\tPearson_Correlation is:  Undefine, Lack of observation\n",
      "Try again: y/n \n",
      "n\n"
     ]
    },
    {
     "ename": "SystemExit",
     "evalue": "You Exited the Program",
     "output_type": "error",
     "traceback": [
      "An exception has occurred, use %tb to see the full traceback.\n",
      "\u001b[1;31mSystemExit\u001b[0m\u001b[1;31m:\u001b[0m You Exited the Program\n"
     ]
    }
   ],
   "source": [
    "# PROGRAMMING CONCEPTS AND PRACTICE;\n",
    "# MAIN FUNCTION;\n",
    "\n",
    "# Imporitng the module \"get_simi\" as gs;\n",
    "import get_simi as gs\n",
    "def main():\n",
    "    obj1 = gs.get_simi()\n",
    "    obj1.user_ip()\n",
    "\n",
    "main()\n",
    "\n"
   ]
  },
  {
   "cell_type": "code",
   "execution_count": null,
   "metadata": {},
   "outputs": [],
   "source": []
  },
  {
   "cell_type": "code",
   "execution_count": null,
   "metadata": {},
   "outputs": [],
   "source": []
  },
  {
   "cell_type": "code",
   "execution_count": null,
   "metadata": {},
   "outputs": [],
   "source": []
  }
 ],
 "metadata": {
  "kernelspec": {
   "display_name": "Python 3",
   "language": "python",
   "name": "python3"
  },
  "language_info": {
   "codemirror_mode": {
    "name": "ipython",
    "version": 3
   },
   "file_extension": ".py",
   "mimetype": "text/x-python",
   "name": "python",
   "nbconvert_exporter": "python",
   "pygments_lexer": "ipython3",
   "version": "3.8.5"
  }
 },
 "nbformat": 4,
 "nbformat_minor": 4
}
